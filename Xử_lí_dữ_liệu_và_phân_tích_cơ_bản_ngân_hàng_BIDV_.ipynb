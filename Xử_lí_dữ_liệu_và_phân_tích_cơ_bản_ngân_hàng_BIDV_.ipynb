{
  "nbformat": 4,
  "nbformat_minor": 0,
  "metadata": {
    "colab": {
      "provenance": [],
      "gpuType": "T4",
      "mount_file_id": "1V16N2-1TvanSzOTsjpsO4qfCtdS7NFMV",
      "authorship_tag": "ABX9TyMB7aUWtgJzL/7nS0Gh6lqS",
      "include_colab_link": true
    },
    "kernelspec": {
      "name": "python3",
      "display_name": "Python 3"
    },
    "language_info": {
      "name": "python"
    },
    "accelerator": "GPU"
  },
  "cells": [
    {
      "cell_type": "markdown",
      "metadata": {
        "id": "view-in-github",
        "colab_type": "text"
      },
      "source": [
        "<a href=\"https://colab.research.google.com/github/TVAexe/KPDL-24-25/blob/main/X%E1%BB%AD_l%C3%AD_d%E1%BB%AF_li%E1%BB%87u_v%C3%A0_ph%C3%A2n_t%C3%ADch_c%C6%A1_b%E1%BA%A3n_ng%C3%A2n_h%C3%A0ng_BIDV_.ipynb\" target=\"_parent\"><img src=\"https://colab.research.google.com/assets/colab-badge.svg\" alt=\"Open In Colab\"/></a>"
      ]
    },
    {
      "cell_type": "code",
      "execution_count": null,
      "metadata": {
        "colab": {
          "base_uri": "https://localhost:8080/"
        },
        "id": "GQzvDM_DwqqX",
        "outputId": "a0232bec-f048-4408-98a5-753e30082239"
      },
      "outputs": [
        {
          "output_type": "stream",
          "name": "stdout",
          "text": [
            "Drive already mounted at /content/drive; to attempt to forcibly remount, call drive.mount(\"/content/drive\", force_remount=True).\n"
          ]
        }
      ],
      "source": [
        "from google.colab import drive\n",
        "drive.mount('/content/drive')"
      ]
    },
    {
      "cell_type": "markdown",
      "source": [
        "#Phân tích cơ bản số liệu ngân hàng BIDV với tên cột \"Số tiền ghi có (VND)\" là số tiền đã chuyển\n"
      ],
      "metadata": {
        "id": "NkW3qvlzzTKv"
      }
    },
    {
      "cell_type": "code",
      "source": [
        "from google.colab import drive\n",
        "import pandas as pd\n",
        "\n",
        "# Đọc file Excel từ Google Drive\n",
        "file_path = '/content/drive/MyDrive/bidv4_tapthe.xlsx'\n",
        "df = pd.read_excel(file_path)\n",
        "\n",
        "# Đảm bảo cột \"Số tiền ghi có (VND)\" ở dạng số\n",
        "df['Số tiền ghi có (VND)'] = pd.to_numeric(df['Số tiền ghi có (VND)'], errors='coerce')\n",
        "\n",
        "# Lọc các giá trị lớn hơn 10.000\n",
        "df_filtered = df[df['Số tiền ghi có (VND)'] > 10000]\n",
        "\n",
        "# Tính mean và median trên dữ liệu đã lọc\n",
        "mean_value_filtered = df_filtered['Số tiền ghi có (VND)'].mean()\n",
        "median_value_filtered = df_filtered['Số tiền ghi có (VND)'].median()\n",
        "\n",
        "# Tính mode và tổng số giao dịch có giá trị bằng mode\n",
        "mode_values = df['Số tiền ghi có (VND)'].mode()\n",
        "if not mode_values.empty:\n",
        "    mode_value = mode_values[0]\n",
        "    transaction_count = (df['Số tiền ghi có (VND)'] == mode_value).sum()\n",
        "    tong_so_tien = df['Số tiền ghi có (VND)'].sum()\n",
        "    gia_tri_lon_nhat = df['Số tiền ghi có (VND)'].max()\n",
        "    gia_tri_nho_nhat = df['Số tiền ghi có (VND)'].min()\n",
        "    phuong_sai = df_filtered['Số tiền ghi có (VND)'].var()\n",
        "    do_lech_chuan = df_filtered['Số tiền ghi có (VND)'].std()\n",
        "\n",
        "    tong_giao_dich_trung_vi = (df['Số tiền ghi có (VND)'] == median_value_filtered).sum()\n",
        "\n",
        "    print(\"Tổng số tiền ghi có (VND):\", tong_so_tien)\n",
        "    print(\"Giá trị lớn nhất của Số tiền ghi có (VND):\", gia_tri_lon_nhat)\n",
        "    print(\"Giá trị nhỏ nhất của Số tiền ghi có (VND):\", gia_tri_nho_nhat)\n",
        "    print(\"Mode của cột 'Số tiền ghi có (VND)':\", mode_value)\n",
        "    print(\"Tổng số giao dịch có giá trị bằng mode:\", transaction_count)\n",
        "    print(\"Phương sai của Số tiền ghi có (VND):\", phuong_sai)\n",
        "    print(\"Độ lệch chuẩn của Số tiền ghi có (VND):\", do_lech_chuan)\n",
        "\n",
        "    print(\"Tổng số giao dịch trung vị:\", tong_giao_dich_trung_vi)\n",
        "else:\n",
        "    print(\"Không có mode trong cột 'Số tiền ghi có (VND)'\")\n",
        "\n",
        "# In ra mean và median của cột \"Số tiền ghi có (VND)\" đã lọc\n",
        "print(\"Số tiền ủng hộ trung bình (mean) trên 10.000:\", mean_value_filtered)\n",
        "print(\"Trung vị của Số tiền ghi có (VND) trên 10.000:\", median_value_filtered)\n"
      ],
      "metadata": {
        "colab": {
          "base_uri": "https://localhost:8080/"
        },
        "id": "-25CxcqBw3Vf",
        "outputId": "8a3f76a9-776a-4a6b-948a-21f66ad358c5"
      },
      "execution_count": null,
      "outputs": [
        {
          "output_type": "stream",
          "name": "stdout",
          "text": [
            "Tổng số tiền ghi có (VND): 38945550597\n",
            "Giá trị lớn nhất của Số tiền ghi có (VND): 2000000000\n",
            "Giá trị nhỏ nhất của Số tiền ghi có (VND): 1\n",
            "Mode của cột 'Số tiền ghi có (VND)': 100000\n",
            "Tổng số giao dịch có giá trị bằng mode: 9926\n",
            "Phương sai của Số tiền ghi có (VND): 206766076507015.62\n",
            "Độ lệch chuẩn của Số tiền ghi có (VND): 14379362.86860498\n",
            "Tổng số giao dịch trung vị: 9210\n",
            "Số tiền ủng hộ trung bình (mean) trên 10.000: 850925.3380183174\n",
            "Trung vị của Số tiền ghi có (VND) trên 10.000: 200000.0\n"
          ]
        }
      ]
    },
    {
      "cell_type": "markdown",
      "source": [
        "#Lọc nội dung giao dịch của ngân hàng BIDV: xóa những cụm từ không cần thiết\n",
        "\n"
      ],
      "metadata": {
        "id": "_1alKYr50U_d"
      }
    },
    {
      "cell_type": "code",
      "source": [
        "import pandas as pd\n",
        "import re\n",
        "\n",
        "# Đọc file Excel\n",
        "file_path = '/content/drive/MyDrive/bidv4_tapthe.xlsx'  # Đường dẫn đến file Excel đầu vào\n",
        "df = pd.read_excel(file_path)\n",
        "\n",
        "# Hàm để xóa nội dung dựa trên các từ khóa và điều kiện\n",
        "def loc_noi_dung(noi_dung):\n",
        "    if isinstance(noi_dung, str):\n",
        "        # Xóa dãy số \"1261122666\", các từ bắt đầu bằng \"FT24\", \"-CTLNH\", \"-B2B\" và \"transfer\" đến hết chuỗi\n",
        "        noi_dung = re.sub(r'BIDV;1261122666;|BIDV;1200979797;|1261122666|1200979797|BIDV;12610001122666;|BIDV;12010000979797;|-\\s*(CTLNH|B2B)\\S*.*|(FT24|transfer|GD:)\\S*.*', '', noi_dung, flags=re.IGNORECASE | re.DOTALL)\n",
        "\n",
        "        # Xóa mọi thứ từ \"TKThe\" đến dấu phẩy\n",
        "        noi_dung = re.sub(r'TKThe.*?,', '', noi_dung).strip()\n",
        "\n",
        "        # Xóa mọi thứ từ \"BLKPAY\" đến hết cụm từ \"B/O \"\n",
        "        noi_dung = re.sub(r'BLKPAY.*?F/O ', '', noi_dung, flags=re.IGNORECASE | re.DOTALL).strip()\n",
        "\n",
        "        # Xóa mọi thứ từ \"REM\" cho đến và bao gồm cụm bắt đầu bằng \"O@L\"\n",
        "        noi_dung = re.sub(r'REM.*?O@L\\S*', '', noi_dung, flags=re.IGNORECASE | re.DOTALL).strip()\n",
        "\n",
        "    return noi_dung\n",
        "\n",
        "# Áp dụng hàm loc_noi_dung vào cột \"Nội dung chi tiết\" và tạo cột mới \"Nội dung chi tiết đã lọc1\"\n",
        "df['Nội dung chi tiết'] = df['Nội dung chi tiết'].str.replace(r'\\n', ' ', regex=True).str.replace(r'\\r', ' ', regex=True)\n",
        "\n",
        "df['Nội dung chi tiết đã lọc1'] = df['Nội dung chi tiết'].apply(loc_noi_dung)\n",
        "\n",
        "# Xuất DataFrame với cột \"Nội dung chi tiết đã lọc1\" ra file Excel mới\n",
        "output_path = '/content/drive/MyDrive/bidv4_tapthe.xlsx'  # Đường dẫn đến vị trí bạn muốn lưu file\n",
        "df.to_excel(output_path, index=False)\n",
        "\n",
        "print(\"File Excel mới đã được lưu tại:\", output_path)\n"
      ],
      "metadata": {
        "id": "y0JOpIPw0Uqq"
      },
      "execution_count": null,
      "outputs": []
    },
    {
      "cell_type": "markdown",
      "source": [
        "#Lọc tên người chuyển khoản theo đặc điểm của cột nội dung chi tiết, lấy những cụm từ đứng trước các từ chuyen|ung|quyen|Chuyen|giup|UH|Ho tro|ho tro hoặc là những cụm từ ở giữa hai từ 'tu' và 'toi'."
      ],
      "metadata": {
        "id": "3LqP8N5e0u6D"
      }
    },
    {
      "cell_type": "code",
      "source": [
        "import pandas as pd\n",
        "import re\n",
        "from google.colab import drive\n",
        "\n",
        "# Kết nối Google Drive\n",
        "drive.mount('/content/drive')\n",
        "\n",
        "# Đường dẫn file Excel trên Google Drive\n",
        "file_path = '/content/drive/MyDrive/bidv4_tapthe.xlsx'  # Thay 'ten_file_cua_ban.xlsx' bằng tên file thực tế của bạn\n",
        "\n",
        "# Đọc file Excel\n",
        "df = pd.read_excel(file_path)\n",
        "\n",
        "# Hàm lọc chuỗi dựa trên các điều kiện\n",
        "def loc_chuoi(noi_dung):\n",
        "    # Bỏ qua nếu nội dung là NaN hoặc rỗng\n",
        "    if pd.isna(noi_dung) or noi_dung.strip() == '':\n",
        "        return None\n",
        "\n",
        "    # Trường hợp có dấu chấm\n",
        "    if '.' in noi_dung:\n",
        "        match = re.search(r'(?i)\\.\\s*([^.\\n]*[A-Z\\s]+)\\s+(?=\\b(chuyen|ung|quyen|Chuyen|giup|UH|Ho tro|ho tro))', noi_dung)\n",
        "    # Trường hợp không có dấu chấm\n",
        "    else:\n",
        "        match = re.search(r'(?i)\\b([A-Z\\s]+)\\s+(?=\\b(chuyen|ung|quyen|Chuyen|Ung|UH))', noi_dung)\n",
        "\n",
        "    # Nếu tìm thấy chuỗi phù hợp\n",
        "    if match:\n",
        "        result = match.group(1).strip()  # Lấy kết quả và loại bỏ khoảng trắng thừa\n",
        "\n",
        "        # Loại bỏ \"Chuyen tien\" và \"Ung Ho\" nếu có\n",
        "        result = re.sub(r'(?i)\\b(Chuyen tien|ung ho|chuyen|Ck|chuyen tien|tien)\\b', '', result)  # Bỏ \"Chuyen tien\" và \"Ung Ho\" không phân biệt hoa thường\n",
        "\n",
        "        # Nếu kết quả không rỗng, trả về kết quả đã lọc\n",
        "        if result.strip():  # Kiểm tra xem kết quả có rỗng sau khi loại bỏ không\n",
        "            return result.strip()\n",
        "\n",
        "    # Nếu không có chuỗi phù hợp, trả về None\n",
        "    return None\n",
        "\n",
        "# Hàm lọc chuỗi nằm giữa \"tu\" và \"toi\", giữ lại phần không chứa số\n",
        "def loc_chuoi_tu_toi(noi_dung):\n",
        "    if pd.isna(noi_dung) or noi_dung.strip() == '':\n",
        "        return None\n",
        "\n",
        "    # Tìm chuỗi giữa \"tu\" và \"toi\"\n",
        "    match = re.search(r'tu\\s+(.*?)\\s+toi', noi_dung, re.IGNORECASE)\n",
        "    if match:\n",
        "        result = match.group(1).strip()\n",
        "\n",
        "        # Phân tách thành từng phần\n",
        "        parts = result.split()\n",
        "\n",
        "        # Lọc ra các phần không chứa số\n",
        "        filtered_parts = [part for part in parts if not re.search(r'\\d', part)]\n",
        "\n",
        "        # Nếu không có phần nào không chứa số, trả về None\n",
        "        if filtered_parts:\n",
        "            return ' '.join(filtered_parts)  # Trả về chuỗi không chứa số\n",
        "        else:\n",
        "            return None\n",
        "    return None\n",
        "\n",
        "# Áp dụng hàm loc_chuoi để tạo cột mới \"Kết quả lọc tên\"\n",
        "df['Kết quả lọc tên'] = df['Nội dung chi tiết đã lọc1'].apply(loc_chuoi)\n",
        "\n",
        "# Áp dụng hàm loc_chuoi_tu_toi để tạo cột mới \"Kết quả lọc từ tu đến toi\"\n",
        "df['Kết quả lọc từ tu đến toi'] = df['Nội dung chi tiết đã lọc1'].apply(loc_chuoi_tu_toi)\n",
        "\n",
        "# Lọc kết quả cuối cùng, chỉ giữ lại các tên không chứa số và cũng thỏa mãn điều kiện \"Kết quả lọc tên\"\n",
        "df['Kết quả cuối'] = df.apply(\n",
        "    lambda row: row['Kết quả lọc tên'] if row['Kết quả lọc tên'] is not None else row['Kết quả lọc từ tu đến toi'],\n",
        "    axis=1\n",
        ")\n",
        "\n",
        "# Xuất DataFrame với cột \"Kết quả lọc\" ra file Excel mới\n",
        "output_path = '/content/drive/MyDrive/bidv4_tapthe.xlsx'  # Thay đường dẫn đến vị trí bạn muốn lưu file\n",
        "df.to_excel(output_path, index=False)\n",
        "\n",
        "print(\"File Excel mới đã được lưu tại:\", output_path)\n"
      ],
      "metadata": {
        "id": "hLGJtXnr0uJO"
      },
      "execution_count": null,
      "outputs": []
    },
    {
      "cell_type": "markdown",
      "source": [
        "#Lọc tên lần 2, bỏ những chữ 'IBFT' ở đầu, tách từ đầu tiên và so sánh với cột họ đã chuẩn bị trước và ghi kết quả vào cột 'Lọc tên cuối'"
      ],
      "metadata": {
        "id": "-T1gZa7V5UPl"
      }
    },
    {
      "cell_type": "code",
      "source": [
        "import pandas as pd\n",
        "import re\n",
        "\n",
        "# Đọc file Excel\n",
        "file_path = '/content/drive/MyDrive/bidv4_tapthe.xlsx'  # Đường dẫn đến file Excel đầu vào\n",
        "df = pd.read_excel(file_path)\n",
        "\n",
        "# Hàm kiểm tra và lọc dữ liệu\n",
        "def loc_ten(ket_qua, ho_list):\n",
        "    # Bỏ qua nếu ket_qua là NaN hoặc rỗng\n",
        "    if pd.isna(ket_qua) or ket_qua.strip() == '':\n",
        "        return ''\n",
        "\n",
        "    # Loại bỏ \"IBFT\" ở đầu chuỗi nếu có\n",
        "    if ket_qua.startswith('IBFT'):\n",
        "        ket_qua = ket_qua[4:].strip()  # Bỏ \"IBFT\" và khoảng trắng\n",
        "\n",
        "    # Kiểm tra nếu ket_qua là chuỗi\n",
        "    if isinstance(ket_qua, str):\n",
        "        words = ket_qua.split()\n",
        "\n",
        "        # Kiểm tra xem danh sách từ có rỗng hay không\n",
        "        if not words:  # Nếu không có từ nào\n",
        "            return ''  # Trả về ô trống\n",
        "\n",
        "        # Lấy từ đầu tiên\n",
        "        first_word = words[0].lower()\n",
        "\n",
        "        # Tách các từ hoàn toàn in hoa\n",
        "        in_hoa_words = [word for word in words if word.isupper()]\n",
        "\n",
        "        # Trường hợp có từ in hoa\n",
        "        if in_hoa_words:\n",
        "            # Nếu từ đầu tiên trùng với họ, giữ lại các từ in hoa\n",
        "            if any(first_word == ho.lower() for ho in ho_list):\n",
        "                result = ' '.join(in_hoa_words)  # Giữ lại các từ in hoa\n",
        "                return result if len(result.split()) > 1 else ''  # Kiểm tra số từ\n",
        "\n",
        "        # Trường hợp không có từ in hoa: kiểm tra từ đầu tiên với danh sách \"Họ\"\n",
        "        if any(first_word == ho.lower() for ho in ho_list):\n",
        "            return ket_qua if len(ket_qua.split()) > 1 else ''  # Kiểm tra số từ\n",
        "\n",
        "    # Trả về ô trống nếu không thỏa mãn điều kiện nào\n",
        "    return ''\n",
        "\n",
        "# Lấy danh sách các từ trong cột \"Họ\"\n",
        "ho_list = df['Họ'].astype(str).apply(lambda x: x.split()).sum()  # Chuyển từng giá trị thành danh sách từ và gộp lại thành danh sách tổng thể\n",
        "\n",
        "# Áp dụng hàm loc_ten để tạo cột mới \"Lọc tên\"\n",
        "df['Lọc tên cuối'] = df['Kết quả cuối'].apply(lambda x: loc_ten(x, ho_list))\n",
        "\n",
        "# Tính tổng số ô trống trong cột \"Lọc tên\"\n",
        "tong_o_trong = df['Lọc tên cuối'].isna().sum() + (df['Lọc tên cuối'] == '').sum()\n",
        "\n",
        "# Xuất DataFrame với cột \"Lọc tên\" ra file Excel mới\n",
        "output_path = '/content/drive/MyDrive/bidv4_tapthe.xlsx'  # Đường dẫn đến vị trí bạn muốn lưu file\n",
        "df.to_excel(output_path, index=False)\n",
        "\n",
        "print(\"File Excel mới đã được lưu tại:\", output_path)\n",
        "print(\"Tổng số ô trống trong cột 'Lọc tên':\", tong_o_trong)\n"
      ],
      "metadata": {
        "id": "CascKv8-5P0Z"
      },
      "execution_count": null,
      "outputs": []
    },
    {
      "cell_type": "markdown",
      "source": [
        "#thống kê số giao dịch trong tháng theo ngày của bidv"
      ],
      "metadata": {
        "id": "pVdxpW7w56ux"
      }
    },
    {
      "cell_type": "code",
      "source": [
        "import pandas as pd\n",
        "\n",
        "# Load your Excel file (you'll need to upload it in Colab)\n",
        "file_path = '/content/drive/MyDrive/bidv4_tapthe.xlsx'  # Update this path accordingly\n",
        "data = pd.read_excel(file_path)\n",
        "\n",
        "# Convert 'Thời gian chuyển khoản' to datetime format\n",
        "# We try multiple formats to handle both with and without seconds\n",
        "data['Thời gian chuyển khoản'] = pd.to_datetime(\n",
        "    data['Thời gian chuyển khoản'],\n",
        "    errors='coerce',\n",
        "    format='%d/%m/%Y %H:%M:%S'\n",
        ").fillna(pd.to_datetime(data['Thời gian chuyển khoản'], errors='coerce', format='%d/%m/%Y %H:%M'))\n",
        "\n",
        "# Extract the date and count transactions per day\n",
        "data['Ngày'] = data['Thời gian chuyển khoản'].dt.date\n",
        "daily_count = data.groupby('Ngày').size().reset_index(name='Số lượng giao dịch')\n",
        "\n",
        "# Save the results to an Excel file\n",
        "output_file_path = '/content/drive/MyDrive/bidv4_daily_stats.xlsx'\n",
        "daily_count.to_excel(output_file_path, index=False, sheet_name='Transaction Count')\n"
      ],
      "metadata": {
        "id": "A8JbzLsL56XP"
      },
      "execution_count": null,
      "outputs": []
    }
  ]
}